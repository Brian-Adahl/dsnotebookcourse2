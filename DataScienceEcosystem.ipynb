{
 "cells": [
  {
   "cell_type": "markdown",
   "id": "18c70e09-3ada-4488-976a-7827ba89e0e3",
   "metadata": {},
   "source": [
    "# Data Science Tools and Ecosystem"
   ]
  },
  {
   "cell_type": "markdown",
   "id": "0c65b771-2309-4fe2-bbee-9d9b41f123ab",
   "metadata": {},
   "source": [
    "In this notebook, Data Science Tools and Ecosystem are summarized."
   ]
  },
  {
   "cell_type": "markdown",
   "id": "52c80e82-ae86-4948-8330-6b997125aed5",
   "metadata": {},
   "source": [
    "**Objectives**\n",
    "- List popular languages in Data Science\n",
    "- Provide examples of libraries used in Data Science\n",
    "- Give a brief list of tools used in Data Science\n",
    "- Demonstrate arithmetic expressions using Python"
   ]
  },
  {
   "cell_type": "markdown",
   "id": "567d8e40-f58a-428f-b55d-c9206dd62ffe",
   "metadata": {},
   "source": [
    "Some examples of popular languages that Data Scientists use are:\n",
    "- Python\n",
    "- R\n",
    "- Julia"
   ]
  },
  {
   "cell_type": "markdown",
   "id": "2ed6b01b-b1cf-4aa0-9513-5935a72f2b36",
   "metadata": {},
   "source": [
    "Examples of libraries used by Data Scientists include:\n",
    "- NumPy\n",
    "- ggplot2\n",
    "- Vegas (for Scala)"
   ]
  },
  {
   "cell_type": "markdown",
   "id": "372e703a-d2c4-4701-ae17-0f01c9b31dad",
   "metadata": {},
   "source": [
    "|Data Science Tools|\n",
    "|-----------------|\n",
    "|MySQL|\n",
    "|MongoDB|\n",
    "|Apache Atlas|"
   ]
  },
  {
   "cell_type": "markdown",
   "id": "731835d9-003c-4518-9111-79c427d8f703",
   "metadata": {},
   "source": [
    "### Here are a Few examples of evaluating arithmetic expressions in Python."
   ]
  },
  {
   "cell_type": "markdown",
   "id": "a95db5fe-9a0f-43f2-a85d-b95cdcd3c575",
   "metadata": {},
   "source": [
    "This runs simple arithmetic to multiply then add integers"
   ]
  },
  {
   "cell_type": "code",
   "execution_count": 1,
   "id": "92b49ecc-338a-48eb-8ea0-780337059696",
   "metadata": {},
   "outputs": [
    {
     "data": {
      "text/plain": [
       "17"
      ]
     },
     "execution_count": 1,
     "metadata": {},
     "output_type": "execute_result"
    }
   ],
   "source": [
    "(3*4)+5"
   ]
  },
  {
   "cell_type": "markdown",
   "id": "72cda61b-74d7-4e26-8876-1ed30d0c195c",
   "metadata": {},
   "source": [
    "This converts 200 minutes to hours"
   ]
  },
  {
   "cell_type": "code",
   "execution_count": 2,
   "id": "56634704-ee00-46e7-8cb6-741718bba105",
   "metadata": {},
   "outputs": [
    {
     "data": {
      "text/plain": [
       "3.3333333333333335"
      ]
     },
     "execution_count": 2,
     "metadata": {},
     "output_type": "execute_result"
    }
   ],
   "source": [
    "200/60"
   ]
  },
  {
   "cell_type": "markdown",
   "id": "92e2412e-0318-4a54-82bb-18781e223999",
   "metadata": {},
   "source": [
    "## Author\n",
    "Brian Amdahl"
   ]
  },
  {
   "cell_type": "code",
   "execution_count": null,
   "id": "2740cdd2-fad1-4191-9c83-5e2969101103",
   "metadata": {},
   "outputs": [],
   "source": []
  }
 ],
 "metadata": {
  "kernelspec": {
   "display_name": "anaconda-panel-2023.05-py310",
   "language": "python",
   "name": "conda-env-anaconda-panel-2023.05-py310-py"
  },
  "language_info": {
   "codemirror_mode": {
    "name": "ipython",
    "version": 3
   },
   "file_extension": ".py",
   "mimetype": "text/x-python",
   "name": "python",
   "nbconvert_exporter": "python",
   "pygments_lexer": "ipython3",
   "version": "3.11.5"
  }
 },
 "nbformat": 4,
 "nbformat_minor": 5
}
